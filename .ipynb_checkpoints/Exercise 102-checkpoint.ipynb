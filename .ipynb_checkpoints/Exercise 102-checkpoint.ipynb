{
 "cells": [
  {
   "cell_type": "code",
   "execution_count": 1,
   "id": "3f63a603-1ed0-4c64-ae62-3ff510607d10",
   "metadata": {},
   "outputs": [
    {
     "name": "stdout",
     "output_type": "stream",
     "text": [
      "multiplication: 200\n"
     ]
    }
   ],
   "source": [
    "# Area of a rectangle\n",
    "height = 20\n",
    "width = 10\n",
    "print(\"multiplication:\", height * width)"
   ]
  },
  {
   "cell_type": "code",
   "execution_count": 2,
   "id": "6f49b5b0-bf5f-4773-8fba-ff8ff1bdeb37",
   "metadata": {},
   "outputs": [
    {
     "name": "stdout",
     "output_type": "stream",
     "text": [
      "value of x after += 5: 30\n",
      "value of x after *= 2: 30\n"
     ]
    }
   ],
   "source": [
    "x = 10\n",
    "x += 5\n",
    "x *= 2\n",
    "print(\"value of x after += 5:\", x)\n",
    "print(\"value of x after *= 2:\", x)"
   ]
  },
  {
   "cell_type": "code",
   "execution_count": 3,
   "id": "7242e4de-4797-4923-ab0d-354a93778338",
   "metadata": {},
   "outputs": [
    {
     "name": "stdout",
     "output_type": "stream",
     "text": [
      " is 15 greater than 10 ?: True\n"
     ]
    }
   ],
   "source": [
    "print(\" is 15 greater than 10 ?:\", 15 > 10)"
   ]
  },
  {
   "cell_type": "code",
   "execution_count": 4,
   "id": "e7201233-31e7-47d8-8e29-04cddbff942b",
   "metadata": {},
   "outputs": [
    {
     "name": "stdout",
     "output_type": "stream",
     "text": [
      "white and black: False\n"
     ]
    }
   ],
   "source": [
    "white = True\n",
    "black = False\n",
    "print(\"white and black:\", white and black)"
   ]
  },
  {
   "cell_type": "code",
   "execution_count": 6,
   "id": "5f001dce-7bfb-4042-a8f1-7743637c2bd2",
   "metadata": {},
   "outputs": [
    {
     "name": "stdout",
     "output_type": "stream",
     "text": [
      "B is a: True\n"
     ]
    }
   ],
   "source": [
    "a = [10,20,30,40]\n",
    "B = a\n",
    "print(\"B is a:\", B is a)"
   ]
  },
  {
   "cell_type": "code",
   "execution_count": 8,
   "id": "405ffb97-42dc-4753-9883-11dc6b37c2ea",
   "metadata": {},
   "outputs": [
    {
     "name": "stdout",
     "output_type": "stream",
     "text": [
      "'world' in 'Hello, world!': True\n"
     ]
    }
   ],
   "source": [
    "print(\"'world' in 'Hello, world!':\", 'world' in 'Hello, world!')"
   ]
  },
  {
   "cell_type": "code",
   "execution_count": null,
   "id": "84dcfb4a-c4a3-4866-a437-10a8aea25657",
   "metadata": {},
   "outputs": [],
   "source": []
  },
  {
   "cell_type": "code",
   "execution_count": 13,
   "id": "98b54f3d-7d44-488c-961f-20e54def87ed",
   "metadata": {},
   "outputs": [
    {
     "name": "stdout",
     "output_type": "stream",
     "text": [
      "list after append: ['bmw', 'benz', 'toyota', 'vibe', 'howo']\n",
      "bmw\n",
      "benz\n",
      "toyota\n",
      "vibe\n"
     ]
    }
   ],
   "source": [
    "cars = [\"bmw\", \"benz\", \"toyota\" ,\"honda\"] \n",
    "cars.append (\"howo\")\n",
    "cars[3] = 'vibe'\n",
    "print(\"list after append:\", cars)\n",
    "print(cars[0])\n",
    "print(cars[1])\n",
    "print(cars[2])\n",
    "print(cars[3])\n",
    "\n"
   ]
  },
  {
   "cell_type": "code",
   "execution_count": 14,
   "id": "c27ce135-2058-4805-be2b-782e40d31247",
   "metadata": {},
   "outputs": [
    {
     "name": "stdout",
     "output_type": "stream",
     "text": [
      "tuple: (1, 2, 3, 4, 5, 6, 7, 8, 9, 10)\n"
     ]
    }
   ],
   "source": [
    "numbers = (1,2,3,4,4,5,6)\n",
    "numbers = (1,2,3,4,5,6,7,8,9,10)\n",
    "print(\"tuple:\", numbers)"
   ]
  },
  {
   "cell_type": "code",
   "execution_count": 16,
   "id": "68b747f4-e006-40ad-938e-decbe7631fde",
   "metadata": {},
   "outputs": [
    {
     "name": "stdout",
     "output_type": "stream",
     "text": [
      "set: {1, 2, 3, 5, 6, 8, 9, 10, 11}\n"
     ]
    }
   ],
   "source": [
    "alpha = {1,2,3,2,5,8,6,9,11,10}\n",
    "print(\"set:\", alpha)"
   ]
  },
  {
   "cell_type": "code",
   "execution_count": 19,
   "id": "0c12aaec-99f5-4e3e-a1c9-6b66545ef9de",
   "metadata": {},
   "outputs": [
    {
     "name": "stdout",
     "output_type": "stream",
     "text": [
      "employeename: doe\n",
      "employeenumber: 12\n"
     ]
    }
   ],
   "source": [
    "employee = {\n",
    "    \"name\" : \"doe\",\n",
    "    \"number\" : 12,\n",
    "    \"job\" : \"manager\"\n",
    "}\n",
    "print(\"employeename:\", employee[\"name\"])\n",
    "print(\"employeenumber:\", employee[\"number\"])"
   ]
  },
  {
   "cell_type": "code",
   "execution_count": null,
   "id": "eee2e339-fc97-40bb-96d7-cea41449511d",
   "metadata": {},
   "outputs": [],
   "source": []
  }
 ],
 "metadata": {
  "kernelspec": {
   "display_name": "Python 3 (ipykernel)",
   "language": "python",
   "name": "python3"
  },
  "language_info": {
   "codemirror_mode": {
    "name": "ipython",
    "version": 3
   },
   "file_extension": ".py",
   "mimetype": "text/x-python",
   "name": "python",
   "nbconvert_exporter": "python",
   "pygments_lexer": "ipython3",
   "version": "3.12.4"
  }
 },
 "nbformat": 4,
 "nbformat_minor": 5
}
