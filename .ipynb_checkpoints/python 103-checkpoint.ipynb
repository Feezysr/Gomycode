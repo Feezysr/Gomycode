{
 "cells": [
  {
   "cell_type": "code",
   "execution_count": 10,
   "id": "496bc96b-38de-464f-a0dd-76ebe07bd14c",
   "metadata": {},
   "outputs": [
    {
     "name": "stdout",
     "output_type": "stream",
     "text": [
      "Accessing first item: 10\n",
      "Accessing last item: 50\n",
      "Accessing items from index 1 to 3: [20, 30, 40]\n",
      "After changing: [10, 25, 30, 40, 50]\n",
      "After inserting: [10, 25, 35, 30, 40, 50]\n",
      "After appending: [10, 25, 35, 30, 40, 50, 60]\n",
      "After extending: [10, 25, 35, 30, 40, 50, 60, 70, 80]\n",
      "After removing: [10, 35, 30, 40, 50, 60, 70, 80]\n",
      "Copied list: [10, 35, 30, 40, 50, 60, 70, 80]\n",
      "after extending: [1, 2, 3, 4, 5, 6, 7, 8, 9, 10, 11, 12, 14, 15]\n"
     ]
    }
   ],
   "source": [
    "#List operation\n",
    "my_list = [10, 20, 30, 40, 50]\n",
    "\n",
    "print('Accessing first item:', my_list[0])\n",
    "print('Accessing last item:', my_list[-1])\n",
    "\n",
    "# Range of Indexing\n",
    "print('Accessing items from index 1 to 3:', my_list[1:4])\n",
    "\n",
    "#. Changing List Items\n",
    "my_list[1] = 25\n",
    "print('After changing:', my_list)\n",
    "\n",
    "# Inserting Items\n",
    "my_list.insert(2, 35)\n",
    "print('After inserting:', my_list)\n",
    "\n",
    "# Adding Items (append and extend)\n",
    "my_list.append(60)\n",
    "print('After appending:', my_list)\n",
    "\n",
    "my_list.extend([70, 80])\n",
    "print('After extending:', my_list)\n",
    "\n",
    "# Removing Items\n",
    "my_list.remove(25)\n",
    "print('After removing:', my_list)\n",
    "\n",
    "# Copying a List\n",
    "new_list = my_list.copy()\n",
    "print('Copied list:', new_list)\n",
    "\n",
    "list1 = [1,2,3,4,5,6,7,8,9,10]\n",
    "list2 = [11,12,14,15]\n",
    "list1.extend(list2)\n",
    "print('after extending:', list1)\n",
    "\n"
   ]
  },
  {
   "cell_type": "code",
   "execution_count": 14,
   "id": "b303c323-2097-49a4-a3e4-bcf7362a8719",
   "metadata": {},
   "outputs": [
    {
     "name": "stdout",
     "output_type": "stream",
     "text": [
      "Accessing first item: 10\n",
      "Accessing last item: 50\n",
      "Unpacked values: 10 20 30 40 50\n",
      "After joining: (10, 20, 30, 40, 50, 60, 70)\n",
      "Count of 20: 1\n",
      "Index of 30: 2\n"
     ]
    }
   ],
   "source": [
    "# Accessing Items\n",
    "my_tuple = (10, 20, 30, 40, 50)\n",
    "print('Accessing first item:', my_tuple[0])\n",
    "print('Accessing last item:', my_tuple[-1])\n",
    "\n",
    "# Unpacking TupLes\n",
    "a, b, c, d, e = my_tuple\n",
    "print ('Unpacked values:', a, b, c, d, e)\n",
    "\n",
    "# Joining TupLes\n",
    "new_tuple = my_tuple + (60, 70)\n",
    "print('After joining:', new_tuple)\n",
    "\n",
    "# TupLe Methods\n",
    "print('Count of 20:', my_tuple.count(20))\n",
    "print('Index of 30:'\n",
    ", my_tuple.index (30))"
   ]
  },
  {
   "cell_type": "code",
   "execution_count": 16,
   "id": "07a1931e-d426-4af1-9112-17b1dac8c654",
   "metadata": {},
   "outputs": [
    {
     "name": "stdout",
     "output_type": "stream",
     "text": [
      "After adding: {40, 10, 20, 30}\n",
      "After removing: {40, 10, 30}\n",
      "Union: {50, 40, 10, 30}\n",
      "Intersection: {40, 30}\n"
     ]
    }
   ],
   "source": [
    "# Adding Items\n",
    "my_set = {10, 20, 30}\n",
    "my_set. add (40)\n",
    "print('After adding:', my_set)\n",
    "\n",
    "# Removing Items\n",
    "my_set. remove (20)\n",
    "print( 'After removing:', my_set)\n",
    "\n",
    "# Set Operations (Union, Intersection)\n",
    "set2 = {30, 40, 50}\n",
    "print( 'Union:', my_set.union(set2))\n",
    "print( 'Intersection:', my_set. intersection(set2))"
   ]
  },
  {
   "cell_type": "code",
   "execution_count": null,
   "id": "ed3d45dc-dedc-49ed-bf17-a02cc7c13458",
   "metadata": {},
   "outputs": [],
   "source": []
  }
 ],
 "metadata": {
  "kernelspec": {
   "display_name": "Python 3 (ipykernel)",
   "language": "python",
   "name": "python3"
  },
  "language_info": {
   "codemirror_mode": {
    "name": "ipython",
    "version": 3
   },
   "file_extension": ".py",
   "mimetype": "text/x-python",
   "name": "python",
   "nbconvert_exporter": "python",
   "pygments_lexer": "ipython3",
   "version": "3.12.4"
  }
 },
 "nbformat": 4,
 "nbformat_minor": 5
}
