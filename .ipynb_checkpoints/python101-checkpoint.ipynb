{
 "cells": [
  {
   "cell_type": "code",
   "execution_count": 2,
   "id": "b2cbee5c-d4b9-4527-be07-0470f930e571",
   "metadata": {},
   "outputs": [
    {
     "name": "stdout",
     "output_type": "stream",
     "text": [
      "10 <class 'int'>\n",
      "3.14 <class 'float'>\n",
      "python <class 'str'>\n",
      "True <class 'bool'>\n"
     ]
    }
   ],
   "source": [
    "# Examples of variables\n",
    "x = 10           #int\n",
    "y = 3.14        #float\n",
    "name = \"python\" #str\n",
    "is_fun = True   #bool\n",
    "\n",
    "# Print variables andd their types\n",
    "print(x, type(x))\n",
    "print(y, type(y))\n",
    "print(name, type(name))\n",
    "print(is_fun, type(is_fun))\n"
   ]
  },
  {
   "cell_type": "code",
   "execution_count": 3,
   "id": "4f87b7b6-c718-47e1-9525-800ed36812a8",
   "metadata": {},
   "outputs": [
    {
     "name": "stdout",
     "output_type": "stream",
     "text": [
      "addition: 19\n",
      "Subtraction: 11\n",
      "Multiplication: 60\n",
      "Division: 3.75\n",
      "Floor Division: 3\n",
      "Modulus: 3\n",
      "Absolute value of -7: 7\n",
      "Round 3.456 to 2 decimal places: 3.46\n",
      "2 raised to the power 3: 8\n"
     ]
    }
   ],
   "source": [
    "# Basic arithmetic\n",
    "a = 15\n",
    "b = 4\n",
    "print(\"addition:\", a + b)\n",
    "print(\"Subtraction:\", a - b)\n",
    "print(\"Multiplication:\", a * b)\n",
    "print(\"Division:\", a / b)\n",
    "print(\"Floor Division:\", a // b)\n",
    "print(\"Modulus:\", a % b)\n",
    "\n",
    "# Number methods\n",
    "print(\"Absolute value of -7:\", abs(-7))\n",
    "print(\"Round 3.456 to 2 decimal places:\", round( 3.456, 2))\n",
    "print(\"2 raised to the power 3:\", pow(2,3))"
   ]
  },
  {
   "cell_type": "code",
   "execution_count": 7,
   "id": "d12c918b-0d90-4bfe-8ebd-90fa2f9e990f",
   "metadata": {},
   "outputs": [
    {
     "name": "stdout",
     "output_type": "stream",
     "text": [
      "original string:    hello python!   \n",
      "Uppercase:    HELLO PYTHON!   \n",
      "Lowercase:    hello python!   \n",
      "Strip Whitespace: hello python!\n",
      "Relace 'Python With World':    hello python!   \n",
      "Split into Words: ['hello', 'python!']\n"
     ]
    }
   ],
   "source": [
    "# String example\n",
    "greeting = \"   hello python!   \"\n",
    "print(\"original string:\", greeting)\n",
    "\n",
    "#string methods\n",
    "print(\"Uppercase:\", greeting.upper())\n",
    "print(\"Lowercase:\", greeting.lower())\n",
    "print(\"Strip Whitespace:\", greeting.strip())\n",
    "print(\"Relace 'Python With World':\", greeting.replace(\"Python\",\"World\"))\n",
    "print(\"Split into Words:\", greeting.split())"
   ]
  },
  {
   "cell_type": "code",
   "execution_count": 8,
   "id": "a81a3abd-b9ef-4543-bf72-6356739c358a",
   "metadata": {},
   "outputs": [
    {
     "name": "stdout",
     "output_type": "stream",
     "text": [
      "Convert String to integer: 123\n",
      "Convert integer to float: 123.0\n",
      "Convert number to string: 1267\n"
     ]
    }
   ],
   "source": [
    "# Type conversion E.G\n",
    "num_str = \"123\"\n",
    "print(\"Convert String to integer:\", int(num_str))\n",
    "print(\"Convert integer to float:\", float(123))\n",
    "print(\"Convert number to string:\", str(1267))"
   ]
  },
  {
   "cell_type": "code",
   "execution_count": null,
   "id": "f65611aa-a1c9-4ff5-bda2-25e573af5866",
   "metadata": {},
   "outputs": [],
   "source": []
  }
 ],
 "metadata": {
  "kernelspec": {
   "display_name": "Python 3 (ipykernel)",
   "language": "python",
   "name": "python3"
  },
  "language_info": {
   "codemirror_mode": {
    "name": "ipython",
    "version": 3
   },
   "file_extension": ".py",
   "mimetype": "text/x-python",
   "name": "python",
   "nbconvert_exporter": "python",
   "pygments_lexer": "ipython3",
   "version": "3.12.4"
  }
 },
 "nbformat": 4,
 "nbformat_minor": 5
}
