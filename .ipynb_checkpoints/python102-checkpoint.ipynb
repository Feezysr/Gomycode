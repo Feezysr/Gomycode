{
 "cells": [
  {
   "cell_type": "code",
   "execution_count": 1,
   "id": "f5f79631-8a73-4fbd-94b1-f78810ef15e6",
   "metadata": {},
   "outputs": [
    {
     "name": "stdout",
     "output_type": "stream",
     "text": [
      "Addition: 8\n",
      "Exponentiation: 8\n",
      "Value of x after += 5: 15\n",
      "Is 10 greater than 5? True\n",
      "True and False: False\n",
      "a is b: True\n",
      "'Python' in 'Hello, Python!': True\n"
     ]
    }
   ],
   "source": [
    "# Examples of each operator type\n",
    "\n",
    "# Arithmetic Operators\n",
    "print(\"Addition:\", 5 + 3)\n",
    "print(\"Exponentiation:\", 2 ** 3)\n",
    "\n",
    "# Assignment Operators\n",
    "x = 10\n",
    "x += 5\n",
    "print(\"Value of x after += 5:\", x)\n",
    "\n",
    "# Comparison Operators\n",
    "print(\"Is 10 greater than 5?\", 10 > 5)\n",
    "\n",
    "# Logical Operators\n",
    "print(\"True and False:\", True and False)\n",
    "\n",
    "# Identity Operators\n",
    "a = [1, 2, 3]\n",
    "b = a\n",
    "print(\"a is b:\", a is b)\n",
    "\n",
    "# Membership Operators\n",
    "print(\"'Python' in 'Hello, Python!':\", 'Python' in 'Hello, Python!')"
   ]
  },
  {
   "cell_type": "code",
   "execution_count": 3,
   "id": "550e7eee-9f86-4858-8b4e-9ba3f271229f",
   "metadata": {},
   "outputs": [
    {
     "name": "stdout",
     "output_type": "stream",
     "text": [
      "list after append: ['apple', 'banana', 'cherry', 'mango']\n",
      "apple\n",
      "banana\n",
      "cherry\n",
      "mango\n"
     ]
    }
   ],
   "source": [
    "# List e.g\n",
    "fruits = [ \"apple\", \"banana\", \"cherry\"]\n",
    "fruits.append (\"orange\")\n",
    "fruits[3] = 'mango' # Add element\n",
    "print(\"list after append:\", fruits)\n",
    "print(fruits[0])\n",
    "print(fruits[1])\n",
    "print(fruits[2])\n",
    "print(fruits[3])    "
   ]
  },
  {
   "cell_type": "code",
   "execution_count": 4,
   "id": "ad1d46be-a8d7-43f8-879c-7d24a1a8dee8",
   "metadata": {},
   "outputs": [
    {
     "name": "stdout",
     "output_type": "stream",
     "text": [
      "Tuple: (10, 20, 30, 40, 50)\n"
     ]
    }
   ],
   "source": [
    "# Tuples e.g\n",
    "coordinates = (10,20,30)\n",
    "coordinates = (10,20,30,40,50)\n",
    "print(\"Tuple:\", coordinates)"
   ]
  },
  {
   "cell_type": "code",
   "execution_count": 5,
   "id": "2fda2059-ce28-45a8-8fb7-f9950b71e72a",
   "metadata": {},
   "outputs": [
    {
     "name": "stdout",
     "output_type": "stream",
     "text": [
      "set: {1, 2, 3, 4, 5, 6}\n"
     ]
    }
   ],
   "source": [
    "# Sets e.g\n",
    "numbers = {1,2,3,4,5,6}\n",
    "print(\"set:\", numbers)"
   ]
  },
  {
   "cell_type": "code",
   "execution_count": 11,
   "id": "c42286c3-67c8-4c30-823b-fc0ed21b25c8",
   "metadata": {},
   "outputs": [
    {
     "name": "stdout",
     "output_type": "stream",
     "text": [
      "studentname: 21\n"
     ]
    }
   ],
   "source": [
    "# Dictionary e.g\n",
    "student = {\n",
    "    \"name\": \"john\",\n",
    "    \"age\": 21,\n",
    "    \"grade\": \"A\"\n",
    "}\n",
    "print(\"studentname:\", student[\"age\"])"
   ]
  },
  {
   "cell_type": "code",
   "execution_count": null,
   "id": "94dae53d-f8d6-453b-ba6c-f9cd253daab6",
   "metadata": {},
   "outputs": [],
   "source": []
  }
 ],
 "metadata": {
  "kernelspec": {
   "display_name": "Python 3 (ipykernel)",
   "language": "python",
   "name": "python3"
  },
  "language_info": {
   "codemirror_mode": {
    "name": "ipython",
    "version": 3
   },
   "file_extension": ".py",
   "mimetype": "text/x-python",
   "name": "python",
   "nbconvert_exporter": "python",
   "pygments_lexer": "ipython3",
   "version": "3.12.4"
  }
 },
 "nbformat": 4,
 "nbformat_minor": 5
}
