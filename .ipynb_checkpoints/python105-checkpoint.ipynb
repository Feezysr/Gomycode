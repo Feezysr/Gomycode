{
 "cells": [
  {
   "cell_type": "code",
   "execution_count": 1,
   "id": "eaf1c70d-0372-4a83-8ab4-535e91823392",
   "metadata": {},
   "outputs": [],
   "source": [
    "#Python Session: Functions\n",
    "#In this session, we will cover the concept of functions in Python, including the use of lambda function\n",
    "#What are Functions?\n",
    "#Functions are blocks of reusable code that perform a specific task. They allow us to:\n",
    "#• Organize code logically.\n",
    "#• Reduce redundancy by reusing code.\n",
    "#• Improve readability and maintainability.\n",
    "#Why Use Functions?\n",
    "#Functions help in structuring programs into smaller, manageable components. They are useful for:"
   ]
  },
  {
   "cell_type": "code",
   "execution_count": 3,
   "id": "a3cf824f-c26e-4c30-bbf6-3fd2ef28d851",
   "metadata": {},
   "outputs": [
    {
     "name": "stdout",
     "output_type": "stream",
     "text": [
      "The sum is 8\n"
     ]
    }
   ],
   "source": [
    "#example of simple function\n",
    "def add_numbers(a, b):\n",
    "    return a + b\n",
    "\n",
    "#call the funtion\n",
    "result = add_numbers (5, 3)\n",
    "print(f\"The sum is {result}\")"
   ]
  },
  {
   "cell_type": "code",
   "execution_count": 4,
   "id": "23ecb2f6-d87e-4157-977c-2dd20dbbd11f",
   "metadata": {},
   "outputs": [
    {
     "ename": "TypeError",
     "evalue": "add_numbers() takes 2 positional arguments but 3 were given",
     "output_type": "error",
     "traceback": [
      "\u001b[1;31m---------------------------------------------------------------------------\u001b[0m",
      "\u001b[1;31mTypeError\u001b[0m                                 Traceback (most recent call last)",
      "Cell \u001b[1;32mIn[4], line 1\u001b[0m\n\u001b[1;32m----> 1\u001b[0m \u001b[43madd_numbers\u001b[49m\u001b[43m \u001b[49m\u001b[43m(\u001b[49m\u001b[38;5;241;43m200\u001b[39;49m\u001b[43m,\u001b[49m\u001b[43m \u001b[49m\u001b[38;5;241;43m50\u001b[39;49m\u001b[43m,\u001b[49m\u001b[43m \u001b[49m\u001b[38;5;241;43m30\u001b[39;49m\u001b[43m)\u001b[49m\n",
      "\u001b[1;31mTypeError\u001b[0m: add_numbers() takes 2 positional arguments but 3 were given"
     ]
    }
   ],
   "source": [
    "add_numbers (200, 50, 30)"
   ]
  },
  {
   "cell_type": "code",
   "execution_count": 5,
   "id": "6a67c828-7ed1-45f6-8a7e-7cbbf401ff55",
   "metadata": {},
   "outputs": [],
   "source": [
    "#functions with default argument\n",
    "#default arguments allow a function to use default values if no arguments are provided\n",
    "#e.g: A funtion to calculate thr area of a rectangle with a default wigth."
   ]
  },
  {
   "cell_type": "code",
   "execution_count": 7,
   "id": "c3054070-4891-47e1-9b6b-34b5ec6e8796",
   "metadata": {},
   "outputs": [
    {
     "name": "stdout",
     "output_type": "stream",
     "text": [
      "50\n",
      "20\n"
     ]
    }
   ],
   "source": [
    "# Example: Function with default arguments\n",
    "def calculate_area(length, width=10):\n",
    "    return length * width\n",
    "\n",
    "\n",
    "# Call the function with and without the default argument\n",
    "print(calculate_area(5))       # Uses default width\n",
    "print (calculate_area(5, 4))   # Overrides default width"
   ]
  },
  {
   "cell_type": "code",
   "execution_count": 10,
   "id": "fa7f8379-1649-4389-a4c9-a086f9978f39",
   "metadata": {},
   "outputs": [
    {
     "name": "stdout",
     "output_type": "stream",
     "text": [
      "6\n",
      "22\n"
     ]
    }
   ],
   "source": [
    "#Funtions with variable-length arguments\n",
    "#variable-length arguments allow to accept an arbitrary number of numbers\n",
    "#use *args gor positional arguments\n",
    "#use **kwargs for keyword arguments\n",
    "\n",
    "# Example: Function with variable-Length arguments\n",
    "def sum_all(*args):\n",
    "    return sum(args) \n",
    "\n",
    "# Call the function with varying number of arguments\n",
    "print(sum_all (1, 2, 3))  # Output: 6\n",
    "print(sum_all(4, 5, 6, 7))  # Output: 22"
   ]
  },
  {
   "cell_type": "code",
   "execution_count": 15,
   "id": "a578e111-966c-4975-85fd-e554253f8978",
   "metadata": {},
   "outputs": [
    {
     "name": "stdout",
     "output_type": "stream",
     "text": [
      "his last name is refsnes\n"
     ]
    }
   ],
   "source": [
    "def my_function(**kid):\n",
    "    print(\"his last name is \" + kid[\"lname\"])\n",
    "    \n",
    "my_function(fname = \"tobias\", lname = \"refsnes\")"
   ]
  },
  {
   "cell_type": "code",
   "execution_count": 16,
   "id": "2c1ecd7e-9e79-4dbb-8da0-74625971b975",
   "metadata": {},
   "outputs": [
    {
     "name": "stdout",
     "output_type": "stream",
     "text": [
      "16\n"
     ]
    }
   ],
   "source": [
    "#Lambda Functions\n",
    "#Lambda functions are anonymous, single-line functions defined using the lambda keyword. They are useful operations.\n",
    "#Syntax:\n",
    "#lambda arguments: expression\n",
    "\n",
    "# Example: Lambda function\n",
    "square = lambda x: x ** 2\n",
    "\n",
    "# Use the Lambda function\n",
    "print (square(4)) # Output: 16\n"
   ]
  },
  {
   "cell_type": "code",
   "execution_count": 17,
   "id": "e5e264f1-0b2c-427d-881e-0fba22280b10",
   "metadata": {},
   "outputs": [
    {
     "name": "stdout",
     "output_type": "stream",
     "text": [
      "[2, 4, 6, 8]\n"
     ]
    }
   ],
   "source": [
    "#lambdda funtion are often used with a higher-order funtions like map, filter, reduse\n",
    "#e.g with map\n",
    "numbers = [1, 2, 3, 4]\n",
    "doubled = list(map(lambda x: x * 2, numbers))\n",
    "print(doubled) # Output: [2, 4, 6, 8]"
   ]
  },
  {
   "cell_type": "code",
   "execution_count": 18,
   "id": "7db7cc0e-3a79-479b-88e4-8514485566dc",
   "metadata": {},
   "outputs": [],
   "source": [
    "#Practice Exercises\n",
    "#Try solving the following exercises to practice working with functions:\n",
    "#1. Write a function that takes a name as input and returns a greeting message, e.g.,\"hello , john\"\n",
    "#2. Create a function that calculates the factorial of a number using a loop.\n",
    "#3. Use a lambda function to find the maximum of two numbers.\n",
    "#4. Write a function that accepts any number of arguments and returns their product."
   ]
  },
  {
   "cell_type": "code",
   "execution_count": 22,
   "id": "b255df22-eafc-42c2-84aa-14785e7e2d2f",
   "metadata": {},
   "outputs": [
    {
     "name": "stdout",
     "output_type": "stream",
     "text": [
      "hello, john \n"
     ]
    }
   ],
   "source": [
    "def greet(john):\n",
    "    return f\"hello, {john} \"\n",
    "\n",
    "print(greet('john'))"
   ]
  },
  {
   "cell_type": "code",
   "execution_count": 25,
   "id": "3e8eb1eb-9aeb-4e4a-adaa-fdac7bc2594f",
   "metadata": {},
   "outputs": [
    {
     "name": "stdout",
     "output_type": "stream",
     "text": [
      "10\n"
     ]
    }
   ],
   "source": [
    "max_num = lambda a, b: a if a > b else b\n",
    "print(max_num(5, 10))"
   ]
  },
  {
   "cell_type": "code",
   "execution_count": 34,
   "id": "6e339413-c951-4cec-8fc7-149bef9e83bd",
   "metadata": {},
   "outputs": [],
   "source": [
    "def products(*args):\n",
    "    result = 1\n",
    "    for i in args:\n",
    "       result *= i \n",
    "    return result"
   ]
  },
  {
   "cell_type": "code",
   "execution_count": null,
   "id": "3db8a8d5-4d3f-46af-854f-e5183d788fc7",
   "metadata": {},
   "outputs": [],
   "source": []
  }
 ],
 "metadata": {
  "kernelspec": {
   "display_name": "Python 3 (ipykernel)",
   "language": "python",
   "name": "python3"
  },
  "language_info": {
   "codemirror_mode": {
    "name": "ipython",
    "version": 3
   },
   "file_extension": ".py",
   "mimetype": "text/x-python",
   "name": "python",
   "nbconvert_exporter": "python",
   "pygments_lexer": "ipython3",
   "version": "3.12.4"
  }
 },
 "nbformat": 4,
 "nbformat_minor": 5
}
