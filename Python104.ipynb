{
 "cells": [
  {
   "cell_type": "code",
   "execution_count": 10,
   "id": "7fcfbe4b-4d3a-4861-b022-fb8bd922822d",
   "metadata": {},
   "outputs": [
    {
     "name": "stdout",
     "output_type": "stream",
     "text": [
      "{x} is greater than 5\n"
     ]
    }
   ],
   "source": [
    "#if statement\n",
    "x = 10\n",
    "if x > 5:\n",
    "    print(\"{x} is greater than 5\")"
   ]
  },
  {
   "cell_type": "code",
   "execution_count": 11,
   "id": "1ae8541e-2293-42cd-a7c0-cd9c85951932",
   "metadata": {},
   "outputs": [
    {
     "name": "stdout",
     "output_type": "stream",
     "text": [
      "{x} is less than 5\n"
     ]
    }
   ],
   "source": [
    "#if-else statement\n",
    "x = 3\n",
    "if x > 5:\n",
    "    print(\"{x} is greater than 5\")\n",
    "else:\n",
    "    print(\"{x} is less than 5\")"
   ]
  },
  {
   "cell_type": "code",
   "execution_count": 12,
   "id": "949d2385-2f66-4dff-a00c-fb4928a30e43",
   "metadata": {},
   "outputs": [
    {
     "name": "stdout",
     "output_type": "stream",
     "text": [
      "{x} is exactly 3\n"
     ]
    }
   ],
   "source": [
    "#el-if statement\n",
    "x = 3\n",
    "if x > 5:\n",
    "    print(\"{x} is greater than 5\")\n",
    "elif x == 3:\n",
    "    print(\"{x} is exactly 3\")\n",
    "else:\n",
    "    print(\"{x} is less than 5\")"
   ]
  },
  {
   "cell_type": "code",
   "execution_count": 13,
   "id": "f9590184-8558-4c3c-afcc-4cf3d90bbd1f",
   "metadata": {},
   "outputs": [
    {
     "name": "stdout",
     "output_type": "stream",
     "text": [
      "You are eligible for the loan\n"
     ]
    }
   ],
   "source": [
    "#logical operators in conditional statements\n",
    "# Example of logical operators in if-else\n",
    "age = 25\n",
    "income = 40000\n",
    "if age > 18 and income > 30000:\n",
    "    print(\"You are eligible for the loan\")\n",
    "elif age > 18 or income > 30000:\n",
    "    print(\"You might be eligible for the loan\") \n",
    "else:\n",
    "    print(\"You are not eligible for the loan\")"
   ]
  },
  {
   "cell_type": "code",
   "execution_count": 14,
   "id": "ff580541-cd18-4e93-8bf6-6bb77a3eb411",
   "metadata": {},
   "outputs": [
    {
     "name": "stdout",
     "output_type": "stream",
     "text": [
      "(x) is not greater than 10\n"
     ]
    }
   ],
   "source": [
    "# Example of nested if statements\n",
    "X = 15\n",
    "\n",
    "if x > 10:\n",
    "    if x % 2 == 0:\n",
    "        print(\"{x} is greater than 10 and even\")\n",
    "    else:\n",
    "        print(\"{x} is greater than 10 and odd\")\n",
    "else:\n",
    "    print(\"(x) is not greater than 10\")"
   ]
  },
  {
   "cell_type": "code",
   "execution_count": 15,
   "id": "771ec320-bc1f-4130-8afe-d8bd215530fb",
   "metadata": {},
   "outputs": [],
   "source": [
    "#pass statement\n",
    "x = 10\n",
    "\n",
    "if x > 5:\n",
    "    pass\n",
    "else:\n",
    "    print(\"{x} is not greaterthan 5\")\n"
   ]
  },
  {
   "cell_type": "code",
   "execution_count": 16,
   "id": "1a7ea6b2-6171-4121-b06f-127ac2c2c9fb",
   "metadata": {},
   "outputs": [
    {
     "name": "stdout",
     "output_type": "stream",
     "text": [
      "Iteration 1\n",
      "Iteration 2\n",
      "Iteration 3\n",
      "Iteration 4\n",
      "Iteration 5\n"
     ]
    }
   ],
   "source": [
    "# Example of a while Loop\n",
    "i = 1\n",
    "\n",
    "while i <= 5:\n",
    "    print('Iteration', i)\n",
    "    i += 1"
   ]
  },
  {
   "cell_type": "code",
   "execution_count": 17,
   "id": "5034cc53-ccde-498a-85e3-06cd4afaf6b2",
   "metadata": {},
   "outputs": [
    {
     "name": "stdout",
     "output_type": "stream",
     "text": [
      "1\n",
      "2\n",
      "3\n",
      "4\n",
      "5\n"
     ]
    }
   ],
   "source": [
    "# Example of break statement in a while Loop\n",
    "i = 1\n",
    "\n",
    "while i <= 10: \n",
    "  print (i)\n",
    "  if i == 5:\n",
    "    break\n",
    "  i += 1"
   ]
  },
  {
   "cell_type": "code",
   "execution_count": 18,
   "id": "c7c69e1a-d960-4890-ad01-3b034d2e9923",
   "metadata": {},
   "outputs": [
    {
     "name": "stdout",
     "output_type": "stream",
     "text": [
      "1\n",
      "3\n",
      "5\n",
      "7\n",
      "9\n"
     ]
    }
   ],
   "source": [
    "# Example of continue statement in a while Loop\n",
    "i = 0\n",
    "\n",
    "while i < 10:\n",
    "  i += 1\n",
    "  if i % 2 == 0: # Skip even number]\n",
    "     continue\n",
    "  print(i) # Print odd numbers only"
   ]
  },
  {
   "cell_type": "code",
   "execution_count": 19,
   "id": "5c6e8a70-f596-4c6a-bb00-079e7bfc7c86",
   "metadata": {},
   "outputs": [
    {
     "name": "stdout",
     "output_type": "stream",
     "text": [
      "I love apple\n",
      "I love banana\n",
      "I love cherry\n"
     ]
    }
   ],
   "source": [
    "# Example of a for loop\n",
    "fruits = [\"apple\", \"banana\", \"cherry\"]\n",
    "\n",
    "for fruit in fruits:\n",
    "    print(f\"I love {fruit}\")"
   ]
  },
  {
   "cell_type": "code",
   "execution_count": 20,
   "id": "fecfd3a6-28ec-440a-a0b4-a2130b0d846f",
   "metadata": {},
   "outputs": [
    {
     "name": "stdout",
     "output_type": "stream",
     "text": [
      "apple\n"
     ]
    }
   ],
   "source": [
    "# Example of break in for loop\n",
    "fruits = [\"apple\", \"banana\", \"cherry\"]\n",
    "\n",
    "for fruit in fruits:\n",
    "    if fruit == \"banana\":\n",
    "        break  # Exit loop when banana is found\n",
    "    print(fruit)"
   ]
  },
  {
   "cell_type": "code",
   "execution_count": 21,
   "id": "a12b5c3c-a78a-4b14-8659-ca461e860031",
   "metadata": {},
   "outputs": [
    {
     "name": "stdout",
     "output_type": "stream",
     "text": [
      "apple\n",
      "cherry\n"
     ]
    }
   ],
   "source": [
    "# Example of continue in for loop\n",
    "for fruit in fruits:\n",
    "    if fruit == \"banana\":\n",
    "        continue  # Skip banana\n",
    "    print(fruit)"
   ]
  },
  {
   "cell_type": "code",
   "execution_count": 22,
   "id": "fabc103b-c2aa-4071-87ba-08264d7d8417",
   "metadata": {},
   "outputs": [
    {
     "name": "stdout",
     "output_type": "stream",
     "text": [
      "1\n",
      "2\n",
      "3\n",
      "4\n",
      "5\n"
     ]
    }
   ],
   "source": [
    "# Example of range in for loop\n",
    "for i in range(1, 6):  # Generate numbers from 1 to 5\n",
    "    print(i)"
   ]
  },
  {
   "cell_type": "code",
   "execution_count": 23,
   "id": "5e1e9f99-83b1-434b-a4c7-79ac7f55ecf4",
   "metadata": {},
   "outputs": [
    {
     "name": "stdout",
     "output_type": "stream",
     "text": [
      "Iteration 0\n",
      "Iteration 1\n",
      "Iteration 2\n",
      "For loop completed successfully\n"
     ]
    }
   ],
   "source": [
    "# Example of else in for loop\n",
    "for i in range(3):\n",
    "    print(f\"Iteration {i}\")\n",
    "else:\n",
    "    print(\"For loop completed successfully\")"
   ]
  },
  {
   "cell_type": "code",
   "execution_count": 4,
   "id": "8f710262-f0c6-493e-a635-94337b6276ae",
   "metadata": {},
   "outputs": [
    {
     "name": "stdout",
     "output_type": "stream",
     "text": [
      "Outer: 1, Inner: 1\n",
      "Outer: 1, Inner: 2\n",
      "Outer: 2, Inner: 1\n",
      "Outer: 2, Inner: 2\n",
      "Outer: 3, Inner: 1\n",
      "Outer: 3, Inner: 2\n"
     ]
    }
   ],
   "source": [
    "# Example of nested for loops\n",
    "for i in range(1, 4):  # Outer loop\n",
    "    for j in range(1, 3):  # Inner loop\n",
    "        print(f\"Outer: {i}, Inner: {j}\")"
   ]
  },
  {
   "cell_type": "code",
   "execution_count": 25,
   "id": "896bb7c6-39f9-4b99-9528-dbf3a8639b2b",
   "metadata": {},
   "outputs": [
    {
     "name": "stdout",
     "output_type": "stream",
     "text": [
      "6\n"
     ]
    }
   ],
   "source": [
    "print(2 + 4)"
   ]
  },
  {
   "cell_type": "code",
   "execution_count": null,
   "id": "8c3ffc2a-4fc5-4865-bca0-8c36e59106db",
   "metadata": {},
   "outputs": [],
   "source": []
  },
  {
   "cell_type": "code",
   "execution_count": null,
   "id": "4e48b639-9a74-4123-8577-05654815a903",
   "metadata": {},
   "outputs": [],
   "source": []
  }
 ],
 "metadata": {
  "kernelspec": {
   "display_name": "Python 3 (ipykernel)",
   "language": "python",
   "name": "python3"
  },
  "language_info": {
   "codemirror_mode": {
    "name": "ipython",
    "version": 3
   },
   "file_extension": ".py",
   "mimetype": "text/x-python",
   "name": "python",
   "nbconvert_exporter": "python",
   "pygments_lexer": "ipython3",
   "version": "3.12.4"
  }
 },
 "nbformat": 4,
 "nbformat_minor": 5
}
